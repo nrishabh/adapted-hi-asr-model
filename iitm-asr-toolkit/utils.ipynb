{
 "cells": [
  {
   "cell_type": "code",
   "execution_count": 3,
   "metadata": {},
   "outputs": [],
   "source": [
    "import os\n",
    "import json\n",
    "import string\n",
    "import random\n",
    "inp = \"train\""
   ]
  },
  {
   "cell_type": "code",
   "execution_count": 4,
   "metadata": {},
   "outputs": [],
   "source": [
    "AUDIO_FOLDER = os.getcwd()+r\"/audio/\"+inp+r\"/\"\n",
    "DATA_FOLDER = os.getcwd()+r\"/data/\"+inp+r\"/\""
   ]
  },
  {
   "cell_type": "code",
   "execution_count": 15,
   "metadata": {},
   "outputs": [],
   "source": [
    "# Renaming files\n",
    "listAudioFiles = os.listdir(AUDIO_FOLDER)\n",
    "jsonFileRenames = DATA_FOLDER+\"file_renames.json\"\n",
    "\n",
    "if os.path.isfile(jsonFileRenames):\n",
    "    with open(jsonFileRenames, mode='r', encoding='utf-8-sig') as f:\n",
    "        dictFileRenames = json.load(f)\n",
    "else:\n",
    "    new_names = list()\n",
    "    while len(new_names)<len(listAudioFiles):\n",
    "        new_names = list(set([(''.join(random.choices(string.ascii_lowercase, k=8)))+\".wav\" for _ in range(len(listAudioFiles))]))\n",
    "    dictFileRenames = dict(zip(new_names, listAudioFiles))\n",
    "    with open(jsonFileRenames, mode='w', encoding='utf-8-sig') as f:\n",
    "        json.dump(dictFileRenames, f)\n",
    "\n",
    "for new_name, old_name in dictFileRenames.items():\n",
    "    if old_name in listAudioFiles:\n",
    "        os.rename(AUDIO_FOLDER+old_name, AUDIO_FOLDER+new_name)"
   ]
  },
  {
   "cell_type": "code",
   "execution_count": 20,
   "metadata": {},
   "outputs": [
    {
     "name": "stdout",
     "output_type": "stream",
     "text": [
      "Trimming dataset based on available audio files...\n",
      "DONE: segments\n",
      "DONE: spk2utt\n",
      "DONE: text\n",
      "DONE: utt2spk\n"
     ]
    }
   ],
   "source": [
    "# Replacing filenames in all files\n",
    "transcription_files = os.listdir(DATA_FOLDER+r\"preTrimmed/\")\n",
    "print(\"Trimming dataset based on available audio files...\")\n",
    "for filename in transcription_files:\n",
    "    data = list()\n",
    "    \n",
    "    with open(DATA_FOLDER+r\"/preTrimmed/\"+filename, mode='r', encoding='utf-8-sig') as f:\n",
    "        for line in f.read().split(\"\\n\"):\n",
    "            if (line[:21]+\".wav\") in dictFileRenames.values():\n",
    "                new_file_name = list(dictFileRenames.keys())[list(dictFileRenames.values()).index(line[:21]+\".wav\")]\n",
    "                new_line = line.replace(line[:21], new_file_name[:-4])\n",
    "                data.append(new_line)\n",
    "\n",
    "    with open(DATA_FOLDER+filename, mode='w', encoding='utf-8-sig') as f:\n",
    "        for line in sorted(data):\n",
    "            f.write(line+\"\\n\")\n",
    "    \n",
    "    print(\"DONE: \"+filename)"
   ]
  },
  {
   "cell_type": "code",
   "execution_count": 22,
   "metadata": {},
   "outputs": [
    {
     "name": "stdout",
     "output_type": "stream",
     "text": [
      "DONE: wav.scp\n"
     ]
    }
   ],
   "source": [
    "with open(DATA_FOLDER+\"wav.scp\", mode='w', encoding='utf-8-sig') as f:\n",
    "    for filename in sorted(list(dictFileRenames.keys())):\n",
    "        f.write(filename[:-4]+\"\\t\"+AUDIO_FOLDER+filename+\"\\n\")\n",
    "\n",
    "print(\"DONE: wav.scp\")"
   ]
  },
  {
   "cell_type": "code",
   "execution_count": null,
   "metadata": {},
   "outputs": [],
   "source": []
  }
 ],
 "metadata": {
  "kernelspec": {
   "display_name": "Python 3.9.7 ('base')",
   "language": "python",
   "name": "python3"
  },
  "language_info": {
   "codemirror_mode": {
    "name": "ipython",
    "version": 3
   },
   "file_extension": ".py",
   "mimetype": "text/x-python",
   "name": "python",
   "nbconvert_exporter": "python",
   "pygments_lexer": "ipython3",
   "version": "3.9.7"
  },
  "orig_nbformat": 4,
  "vscode": {
   "interpreter": {
    "hash": "9ecb87e2359b1f8fc3f23380d649f575691ee3789327b9d3cc51dd82cf98de7e"
   }
  }
 },
 "nbformat": 4,
 "nbformat_minor": 2
}
